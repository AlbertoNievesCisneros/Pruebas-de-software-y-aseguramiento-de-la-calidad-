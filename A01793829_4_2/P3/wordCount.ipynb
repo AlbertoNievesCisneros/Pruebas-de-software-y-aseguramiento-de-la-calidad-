{
 "cells": [
  {
   "cell_type": "code",
   "execution_count": null,
   "id": "5da1bb8b",
   "metadata": {},
   "outputs": [],
   "source": [
    "import sys\n",
    "from collections import Counter\n",
    "\n",
    "def count_words(filepath):\n",
    "    try:\n",
    "        with open(filepath, 'r') as file:\n",
    "            words = file.read().lower().split()\n",
    "            word_count = Counter(words)\n",
    "            total_count = sum(word_count.values())  # Total de palabras\n",
    "            with open('WordCountResults.txt', 'w') as result_file:\n",
    "                for word, count in word_count.items():\n",
    "                    result_file.write(f\"{word}: {count}\\n\")\n",
    "                    print(f\"{word}: {count}\")\n",
    "                # Escribe e imprime el total después de listar todas las palabras\n",
    "                result_file.write(f\"Total: {total_count}\\n\")\n",
    "                print(f\"Total: {total_count}\")\n",
    "    except FileNotFoundError:\n",
    "        print(f\"El archivo {filepath} no se encontró.\")\n",
    "    except Exception as e:\n",
    "        print(f\"Ocurrió un error: {e}\")\n",
    "\n",
    "if __name__ == \"__main__\":\n",
    "    if len(sys.argv) > 1:\n",
    "        count_words(sys.argv[1])\n",
    "    else:\n",
    "        print(\"Por favor, proporciona el path del archivo como argumento.\")"
   ]
  }
 ],
 "metadata": {
  "kernelspec": {
   "display_name": "Python 3 (ipykernel)",
   "language": "python",
   "name": "python3"
  },
  "language_info": {
   "codemirror_mode": {
    "name": "ipython",
    "version": 3
   },
   "file_extension": ".py",
   "mimetype": "text/x-python",
   "name": "python",
   "nbconvert_exporter": "python",
   "pygments_lexer": "ipython3",
   "version": "3.11.5"
  }
 },
 "nbformat": 4,
 "nbformat_minor": 5
}
