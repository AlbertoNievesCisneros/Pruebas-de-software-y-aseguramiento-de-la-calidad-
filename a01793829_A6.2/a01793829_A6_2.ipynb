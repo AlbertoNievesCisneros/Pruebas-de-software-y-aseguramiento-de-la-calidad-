{
  "nbformat": 4,
  "nbformat_minor": 0,
  "metadata": {
    "colab": {
      "provenance": []
    },
    "kernelspec": {
      "name": "python3",
      "display_name": "Python 3"
    },
    "language_info": {
      "name": "python"
    }
  },
  "cells": [
    {
      "cell_type": "code",
      "execution_count": 1,
      "metadata": {
        "id": "dc_vsRBe-FgJ"
      },
      "outputs": [],
      "source": [
        "import json\n",
        "import os"
      ]
    },
    {
      "cell_type": "code",
      "source": [
        "class Hotel:\n",
        "    def __init__(self, name, location, rooms):\n",
        "        self.name = name\n",
        "        self.location = location\n",
        "        self.rooms = rooms\n",
        "\n",
        "    def to_dict(self):\n",
        "        return {\n",
        "            'name': self.name,\n",
        "            'location': self.location,\n",
        "            'rooms': self.rooms\n",
        "        }\n",
        "\n",
        "    def save_to_file(self):\n",
        "        with open(f'{self.name}.json', 'w') as f:\n",
        "            json.dump(self.to_dict(), f)\n",
        "\n",
        "    @classmethod\n",
        "    def load_from_file(cls, name):\n",
        "        filename = f'{name}.json'\n",
        "        if os.path.exists(filename):\n",
        "            with open(filename, 'r') as f:\n",
        "                data = json.load(f)\n",
        "                return cls(**data)\n",
        "        else:\n",
        "            raise FileNotFoundError(f'{filename} does not exist')\n",
        "\n",
        "    def delete_file(self):\n",
        "        filename = f'{self.name}.json'\n",
        "        if os.path.exists(filename):\n",
        "            os.remove(filename)\n",
        "        else:\n",
        "            raise FileNotFoundError(f'{filename} does not exist')\n",
        "\n",
        "    def display_info(self):\n",
        "        print(f\"Hotel: {self.name}\")\n",
        "        print(f\"Location: {self.location}\")\n",
        "        print(f\"Rooms: {self.rooms}\")\n",
        "\n"
      ],
      "metadata": {
        "id": "1wNMcTi7-J2c"
      },
      "execution_count": 2,
      "outputs": []
    },
    {
      "cell_type": "code",
      "source": [
        "class Customer:\n",
        "    def __init__(self, name, email):\n",
        "        self.name = name\n",
        "        self.email = email\n",
        "\n",
        "    def to_dict(self):\n",
        "        return {\n",
        "            'name': self.name,\n",
        "            'email': self.email\n",
        "        }\n",
        "\n",
        "    def save_to_file(self):\n",
        "        with open(f'{self.name}.json', 'w') as f:\n",
        "            json.dump(self.to_dict(), f)\n",
        "\n",
        "    @classmethod\n",
        "    def load_from_file(cls, name):\n",
        "        filename = f'{name}.json'\n",
        "        if os.path.exists(filename):\n",
        "            with open(filename, 'r') as f:\n",
        "                data = json.load(f)\n",
        "                return cls(**data)\n",
        "        else:\n",
        "            raise FileNotFoundError(f'{filename} does not exist')\n",
        "\n",
        "    def delete_file(self):\n",
        "        filename = f'{self.name}.json'\n",
        "        if os.path.exists(filename):\n",
        "            os.remove(filename)\n",
        "        else:\n",
        "            raise FileNotFoundError(f'{filename} does not exist')\n",
        "\n",
        "    def display_info(self):\n",
        "        print(f\"Customer: {self.name}\")\n",
        "        print(f\"Email: {self.email}\")\n",
        "\n"
      ],
      "metadata": {
        "id": "0p7oPVgn-NFS"
      },
      "execution_count": 3,
      "outputs": []
    },
    {
      "cell_type": "code",
      "source": [
        "class Reservation:\n",
        "    def __init__(self, customer, hotel):\n",
        "        self.customer = customer\n",
        "        self.hotel = hotel\n",
        "\n",
        "    def to_dict(self):\n",
        "        return {\n",
        "            'customer': self.customer.to_dict(),\n",
        "            'hotel': self.hotel.to_dict()\n",
        "        }\n",
        "\n",
        "    def save_to_file(self):\n",
        "        with open(f'{self.customer.name}_{self.hotel.name}_reservation.json', 'w') as f:\n",
        "            json.dump(self.to_dict(), f)\n",
        "\n",
        "    @classmethod\n",
        "    def load_from_file(cls, customer_name, hotel_name):\n",
        "        filename = f'{customer_name}_{hotel_name}_reservation.json'\n",
        "        if os.path.exists(filename):\n",
        "            with open(filename, 'r') as f:\n",
        "                data = json.load(f)\n",
        "                customer = Customer(**data['customer'])\n",
        "                hotel = Hotel(**data['hotel'])\n",
        "                return cls(customer, hotel)\n",
        "        else:\n",
        "            raise FileNotFoundError(f'{filename} does not exist')\n",
        "\n",
        "    def delete_file(self):\n",
        "        filename = f'{self.customer.name}_{self.hotel.name}_reservation.json'\n",
        "        if os.path.exists(filename):\n",
        "            os.remove(filename)\n",
        "        else:\n",
        "            raise FileNotFoundError(f'{filename} does not exist')\n",
        "\n",
        "\n"
      ],
      "metadata": {
        "id": "FsyiH7kl-O-L"
      },
      "execution_count": 4,
      "outputs": []
    },
    {
      "cell_type": "code",
      "source": [],
      "metadata": {
        "id": "AX1mEiB4-pcg"
      },
      "execution_count": 7,
      "outputs": []
    }
  ]
}